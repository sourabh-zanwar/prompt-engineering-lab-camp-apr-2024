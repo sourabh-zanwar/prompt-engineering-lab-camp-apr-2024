{
 "cells": [
  {
   "cell_type": "markdown",
   "metadata": {},
   "source": [
    "## Set up environment"
   ]
  },
  {
   "cell_type": "code",
   "execution_count": 1,
   "metadata": {},
   "outputs": [],
   "source": [
    "from setup_openai import set_env, reset_env\n",
    "set_env()"
   ]
  },
  {
   "cell_type": "markdown",
   "metadata": {},
   "source": [
    "## Pre-defined Tasks"
   ]
  },
  {
   "cell_type": "markdown",
   "metadata": {},
   "source": [
    "### Zero Shot (Text Categorization)"
   ]
  },
  {
   "cell_type": "code",
   "execution_count": 2,
   "metadata": {},
   "outputs": [],
   "source": [
    "from textcat_openai.run_pipeline import run_pipeline as run_categorization_pipeline"
   ]
  },
  {
   "cell_type": "code",
   "execution_count": 3,
   "metadata": {},
   "outputs": [],
   "source": [
    "text = \"our presence brightens any room you walk into. Your warmth and genuine kindness make everyone around you feel valued and appreciated. Your dedication to your passions and your relentless pursuit of excellence are truly inspiring. You have a remarkable ability to lift others up with your words of encouragement and support. Your unique perspective and unwavering optimism make the world a better place. Thank you for being such an incredible person!\""
   ]
  },
  {
   "cell_type": "code",
   "execution_count": 4,
   "metadata": {},
   "outputs": [
    {
     "name": "stderr",
     "output_type": "stream",
     "text": [
      "/Users/s.zanwar/anaconda3/lib/python3.11/site-packages/spacy_llm/pipeline/llm.py:143: UserWarning: Task supports sharding, but model does not provide context length. Data won't be sharded, prompt might exceed the model's context length. Set context length in your config. If you think spacy-llm should provide the context length for this model automatically, report this to https://github.com/explosion/spacy-llm/issues.\n",
      "  warnings.warn(\n"
     ]
    },
    {
     "name": "stdout",
     "output_type": "stream",
     "text": [
      "Text: our presence brightens any room you walk into. Your warmth and genuine kindness make everyone around you feel valued and appreciated. Your dedication to your passions and your relentless pursuit of excellence are truly inspiring. You have a remarkable ability to lift others up with your words of encouragement and support. Your unique perspective and unwavering optimism make the world a better place. Thank you for being such an incredible person!\n",
      "Categories: defaultdict(<function reduce_shards_to_doc.<locals>.<lambda> at 0x12d181300>, {'COMPLIMENT': 1.0, 'INSULT': 0.0})\n"
     ]
    },
    {
     "data": {
      "text/plain": [
       "our presence brightens any room you walk into. Your warmth and genuine kindness make everyone around you feel valued and appreciated. Your dedication to your passions and your relentless pursuit of excellence are truly inspiring. You have a remarkable ability to lift others up with your words of encouragement and support. Your unique perspective and unwavering optimism make the world a better place. Thank you for being such an incredible person!"
      ]
     },
     "execution_count": 4,
     "metadata": {},
     "output_type": "execute_result"
    }
   ],
   "source": [
    "run_categorization_pipeline(text=text, config_path=\"textcat_openai/zeroshot.cfg\")"
   ]
  },
  {
   "cell_type": "markdown",
   "metadata": {},
   "source": [
    "### Few Shot (Text Categorization)"
   ]
  },
  {
   "cell_type": "code",
   "execution_count": 7,
   "metadata": {},
   "outputs": [
    {
     "name": "stdout",
     "output_type": "stream",
     "text": [
      "Text: our presence brightens any room you walk into. Your warmth and genuine kindness make everyone around you feel valued and appreciated. Your dedication to your passions and your relentless pursuit of excellence are truly inspiring. You have a remarkable ability to lift others up with your words of encouragement and support. Your unique perspective and unwavering optimism make the world a better place. Thank you for being such an incredible person!\n",
      "Categories: defaultdict(<function reduce_shards_to_doc.<locals>.<lambda> at 0x1267aeca0>, {'COMPLIMENT': 1.0, 'INSULT': 0.0})\n"
     ]
    }
   ],
   "source": [
    "text = \"our presence brightens any room you walk into. Your warmth and genuine kindness make everyone around you feel valued and appreciated. Your dedication to your passions and your relentless pursuit of excellence are truly inspiring. You have a remarkable ability to lift others up with your words of encouragement and support. Your unique perspective and unwavering optimism make the world a better place. Thank you for being such an incredible person!\"\n",
    "\n",
    "run_categorization_pipeline(text=text, config_path=\"textcat_openai/fewshot.cfg\", examples_path=\"textcat_openai/examples.jsonl\")"
   ]
  },
  {
   "cell_type": "markdown",
   "metadata": {},
   "source": [
    "## Custom Task (Context Extraction)"
   ]
  },
  {
   "cell_type": "code",
   "execution_count": 5,
   "metadata": {},
   "outputs": [
    {
     "name": "stdout",
     "output_type": "stream",
     "text": [
      "/Users/s.zanwar/Projects/CoP/prompt-engineering-lab-camp-apr-2024/customtask_openai\n"
     ]
    }
   ],
   "source": [
    "import os\n",
    "new_wd = os.getcwd() + \"/customtask_openai\"\n",
    "os.chdir(new_wd)\n",
    "print(os.getcwd())"
   ]
  },
  {
   "cell_type": "code",
   "execution_count": 6,
   "metadata": {},
   "outputs": [],
   "source": [
    "from run_pipeline import run_pipeline as run_custom_pipeline\n"
   ]
  },
  {
   "cell_type": "code",
   "execution_count": 8,
   "metadata": {},
   "outputs": [],
   "source": [
    "\n",
    "text = \"After years of research and development, engineers have successfully tested a prototype for a self-driving electric car. This breakthrough promises to revolutionize transportation and reduce carbon emissions.\""
   ]
  },
  {
   "cell_type": "code",
   "execution_count": 9,
   "metadata": {},
   "outputs": [
    {
     "name": "stdout",
     "output_type": "stream",
     "text": [
      "Text: After years of research and development, engineers have successfully tested a prototype for a self-driving electric car. This breakthrough promises to revolutionize transportation and reduce carbon emissions.\n",
      "Context: Technological advancement in transportation industry.\n"
     ]
    },
    {
     "data": {
      "text/plain": [
       "After years of research and development, engineers have successfully tested a prototype for a self-driving electric car. This breakthrough promises to revolutionize transportation and reduce carbon emissions."
      ]
     },
     "execution_count": 9,
     "metadata": {},
     "output_type": "execute_result"
    }
   ],
   "source": [
    "run_custom_pipeline(text=text, config_path=\"customtask.cfg\")"
   ]
  },
  {
   "cell_type": "code",
   "execution_count": null,
   "metadata": {},
   "outputs": [],
   "source": []
  }
 ],
 "metadata": {
  "kernelspec": {
   "display_name": "base",
   "language": "python",
   "name": "python3"
  },
  "language_info": {
   "codemirror_mode": {
    "name": "ipython",
    "version": 3
   },
   "file_extension": ".py",
   "mimetype": "text/x-python",
   "name": "python",
   "nbconvert_exporter": "python",
   "pygments_lexer": "ipython3",
   "version": "3.11.5"
  }
 },
 "nbformat": 4,
 "nbformat_minor": 2
}
