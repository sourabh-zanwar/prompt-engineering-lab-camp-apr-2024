{
 "cells": [
  {
   "cell_type": "markdown",
   "metadata": {},
   "source": [
    "## Set up environment"
   ]
  },
  {
   "cell_type": "code",
   "execution_count": 2,
   "metadata": {},
   "outputs": [],
   "source": [
    "from setup_openai import set_env, reset_env\n",
    "set_env()"
   ]
  },
  {
   "cell_type": "markdown",
   "metadata": {},
   "source": [
    "## Pre-defined Tasks"
   ]
  },
  {
   "cell_type": "markdown",
   "metadata": {},
   "source": [
    "### Zero Shot (Text Categorization)"
   ]
  },
  {
   "cell_type": "code",
   "execution_count": 3,
   "metadata": {},
   "outputs": [],
   "source": [
    "from textcat_openai import run_pipeline as run_categorization_pipeline"
   ]
  },
  {
   "cell_type": "code",
   "execution_count": 10,
   "metadata": {},
   "outputs": [
    {
     "name": "stdout",
     "output_type": "stream",
     "text": [
      "Text: our presence brightens any room you walk into. Your warmth and genuine kindness make everyone around you feel valued and appreciated. Your dedication to your passions and your relentless pursuit of excellence are truly inspiring. You have a remarkable ability to lift others up with your words of encouragement and support. Your unique perspective and unwavering optimism make the world a better place. Thank you for being such an incredible person!\n",
      "Categories: defaultdict(<function reduce_shards_to_doc.<locals>.<lambda> at 0x1349fef20>, {'COMPLIMENT': 1.0, 'INSULT': 0.0})\n"
     ]
    }
   ],
   "source": [
    "text = \"our presence brightens any room you walk into. Your warmth and genuine kindness make everyone around you feel valued and appreciated. Your dedication to your passions and your relentless pursuit of excellence are truly inspiring. You have a remarkable ability to lift others up with your words of encouragement and support. Your unique perspective and unwavering optimism make the world a better place. Thank you for being such an incredible person!\"\n",
    "\n",
    "run_categorization_pipeline(text=text, config_path=\"textcat_openai/zeroshot.cfg\")"
   ]
  },
  {
   "cell_type": "markdown",
   "metadata": {},
   "source": [
    "### Few Shot (Text Categorization)"
   ]
  },
  {
   "cell_type": "code",
   "execution_count": 7,
   "metadata": {},
   "outputs": [
    {
     "name": "stdout",
     "output_type": "stream",
     "text": [
      "Text: our presence brightens any room you walk into. Your warmth and genuine kindness make everyone around you feel valued and appreciated. Your dedication to your passions and your relentless pursuit of excellence are truly inspiring. You have a remarkable ability to lift others up with your words of encouragement and support. Your unique perspective and unwavering optimism make the world a better place. Thank you for being such an incredible person!\n",
      "Categories: defaultdict(<function reduce_shards_to_doc.<locals>.<lambda> at 0x1267aeca0>, {'COMPLIMENT': 1.0, 'INSULT': 0.0})\n"
     ]
    }
   ],
   "source": [
    "text = \"our presence brightens any room you walk into. Your warmth and genuine kindness make everyone around you feel valued and appreciated. Your dedication to your passions and your relentless pursuit of excellence are truly inspiring. You have a remarkable ability to lift others up with your words of encouragement and support. Your unique perspective and unwavering optimism make the world a better place. Thank you for being such an incredible person!\"\n",
    "\n",
    "run_categorization_pipeline(text=text, config_path=\"textcat_openai/fewshot.cfg\", examples_path=\"textcat_openai/examples.jsonl\")"
   ]
  },
  {
   "cell_type": "markdown",
   "metadata": {},
   "source": [
    "## Custom Task (Context Extraction)"
   ]
  },
  {
   "cell_type": "code",
   "execution_count": 3,
   "metadata": {},
   "outputs": [
    {
     "name": "stdout",
     "output_type": "stream",
     "text": [
      "/Users/s.zanwar/Projects/CoP/prompt-engineering-lab-camp-apr-2024/customtask_openai\n"
     ]
    }
   ],
   "source": [
    "import os\n",
    "new_wd = os.getcwd() + \"/customtask_openai\"\n",
    "os.chdir(new_wd)\n",
    "print(os.getcwd())"
   ]
  },
  {
   "cell_type": "code",
   "execution_count": 4,
   "metadata": {},
   "outputs": [],
   "source": [
    "from run_pipeline import run_pipeline as run_custom_pipeline\n",
    "\n",
    "text = \"Scientists have discovered a new species of deep-sea fish living in the Mariana Trench, the deepest part of the ocean. This finding highlights the remarkable biodiversity present in Earth's oceans.\""
   ]
  },
  {
   "cell_type": "code",
   "execution_count": 5,
   "metadata": {},
   "outputs": [
    {
     "name": "stdout",
     "output_type": "stream",
     "text": [
      "Text: Scientists have discovered a new species of deep-sea fish living in the Mariana Trench, the deepest part of the ocean. This finding highlights the remarkable biodiversity present in Earth's oceans.\n",
      "Context: Discovery of new species in the Mariana Trench\n"
     ]
    },
    {
     "data": {
      "text/plain": [
       "Scientists have discovered a new species of deep-sea fish living in the Mariana Trench, the deepest part of the ocean. This finding highlights the remarkable biodiversity present in Earth's oceans."
      ]
     },
     "execution_count": 5,
     "metadata": {},
     "output_type": "execute_result"
    }
   ],
   "source": [
    "run_custom_pipeline(text=text, config_path=\"customtask.cfg\")"
   ]
  },
  {
   "cell_type": "code",
   "execution_count": null,
   "metadata": {},
   "outputs": [],
   "source": []
  }
 ],
 "metadata": {
  "kernelspec": {
   "display_name": "base",
   "language": "python",
   "name": "python3"
  },
  "language_info": {
   "codemirror_mode": {
    "name": "ipython",
    "version": 3
   },
   "file_extension": ".py",
   "mimetype": "text/x-python",
   "name": "python",
   "nbconvert_exporter": "python",
   "pygments_lexer": "ipython3",
   "version": "3.11.5"
  }
 },
 "nbformat": 4,
 "nbformat_minor": 2
}
